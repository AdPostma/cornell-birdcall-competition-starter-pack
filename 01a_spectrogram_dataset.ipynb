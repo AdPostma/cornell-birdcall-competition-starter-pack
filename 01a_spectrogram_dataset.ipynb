{
 "cells": [
  {
   "cell_type": "code",
   "execution_count": 2,
   "metadata": {},
   "outputs": [],
   "source": [
    "from birdcall.data import *\n",
    "\n",
    "import pandas as pd\n",
    "import librosa\n",
    "import matplotlib.pyplot as plt\n",
    "import soundfile as sf\n",
    "from torch.utils.data import Dataset"
   ]
  },
  {
   "cell_type": "code",
   "execution_count": 3,
   "metadata": {},
   "outputs": [],
   "source": [
    "recs = pd.read_pickle('data/recs.pkl')"
   ]
  },
  {
   "cell_type": "code",
   "execution_count": 4,
   "metadata": {},
   "outputs": [],
   "source": [
    "#export data\n",
    "def audio_to_spec(audio):\n",
    "    spec = librosa.power_to_db(\n",
    "        librosa.feature.melspectrogram(audio, sr=SAMPLE_RATE, fmin=20, fmax=16000, n_mels=128)\n",
    "#         librosa.feature.melspectrogram(audio, sr=SAMPLE_RATE, hop_length=1255, fmin=20, fmax=16000)\n",
    "    )\n",
    "    return spec"
   ]
  },
  {
   "cell_type": "code",
   "execution_count": 5,
   "metadata": {},
   "outputs": [],
   "source": [
    "#export data\n",
    "\n",
    "import matplotlib.pyplot as plt\n",
    "\n",
    "class SpectrogramDataset(Dataset):\n",
    "    def __init__(self, recs, classes, len_mult=20, spec_min=None, spec_max=None):\n",
    "        self.recs = recs\n",
    "        self.vocab = classes\n",
    "        self.do_norm = (spec_min and spec_max)\n",
    "        self.spec_min = spec_min\n",
    "        self.spec_max = spec_max\n",
    "        self.len_mult = len_mult\n",
    "    def __getitem__(self, idx):\n",
    "        cls_idx = idx % len(self.vocab)\n",
    "        recs = self.recs[classes[cls_idx]]\n",
    "        path, duration = recs[np.random.randint(0, len(recs))]\n",
    "        if duration > 5:\n",
    "            x, _ = sf.read(path, start=int(np.random.rand() * (duration-5) * SAMPLE_RATE), frames=5*SAMPLE_RATE)\n",
    "        else:\n",
    "            x, _ = sf.read(path)\n",
    "            x =  np.tile(x, 15) # the shortest rec in the train set is 0.39 sec\n",
    "            start_frame = int(np.random.rand() * (x.shape[0] - 5 * SAMPLE_RATE))\n",
    "            x = x[start_frame:start_frame+5*SAMPLE_RATE]\n",
    "        if x.shape[0] != 5 * SAMPLE_RATE: raise Exception(f'Incorrect length: {x.shape[0]}, {path}, {duration}')\n",
    "        x = audio_to_spec(x)\n",
    "        if self.do_norm: x = self.normalize(x)\n",
    "        img = np.repeat(x[None, :, :], 3, 0)\n",
    "            \n",
    "        return img.astype(np.float32), self.one_hot_encode(cls_idx)\n",
    "    def normalize(self, x):\n",
    "        x = (x - self.spec_min) / (self.spec_max - self.spec_min)\n",
    "        return (x - 0.36829123) / 0.08813263\n",
    "    \n",
    "    def show(self, idx):\n",
    "        x = self[idx][0]\n",
    "        x = (x * 0.36829123) + 0.08813263\n",
    "        return plt.imshow(x.transpose(1,2,0)[:, :, 0])\n",
    "        \n",
    "    def one_hot_encode(self, y):\n",
    "        one_hot = np.zeros((len(self.vocab)))\n",
    "        one_hot[y] = 1\n",
    "        return one_hot\n",
    "    def __len__(self):\n",
    "        return self.len_mult * len(self.vocab)"
   ]
  },
  {
   "cell_type": "code",
   "execution_count": 6,
   "metadata": {},
   "outputs": [],
   "source": [
    "import numpy as np"
   ]
  },
  {
   "cell_type": "code",
   "execution_count": 7,
   "metadata": {},
   "outputs": [],
   "source": [
    "classes = pd.read_pickle('data/classes.pkl')\n",
    "train_ds = SpectrogramDataset(pd.read_pickle('data/train_set.pkl'), classes, spec_max=80, spec_min=-100)\n",
    "valid_ds = SpectrogramDataset(pd.read_pickle('data/val_set.pkl'), classes, len_mult=10)"
   ]
  },
  {
   "cell_type": "code",
   "execution_count": 341,
   "metadata": {},
   "outputs": [
    {
     "name": "stdout",
     "output_type": "stream",
     "text": [
      "CPU times: user 1min 20s, sys: 1.77 s, total: 1min 22s\n",
      "Wall time: 21.5 s\n"
     ]
    }
   ],
   "source": [
    "%%time\n",
    "x = []\n",
    "for i in range(264*5):\n",
    "    x.append(train_ds[i][0])"
   ]
  },
  {
   "cell_type": "code",
   "execution_count": 342,
   "metadata": {},
   "outputs": [
    {
     "data": {
      "text/plain": [
       "(4.6402035, -4.1414037, -0.0068314946, 1.0054498)"
      ]
     },
     "execution_count": 342,
     "metadata": {},
     "output_type": "execute_result"
    }
   ],
   "source": [
    "np.stack(x).max(), np.stack(x).min(), np.stack(x).mean(), np.stack(x).std()"
   ]
  }
 ],
 "metadata": {
  "kernelspec": {
   "display_name": "Python 3",
   "language": "python",
   "name": "python3"
  },
  "language_info": {
   "codemirror_mode": {
    "name": "ipython",
    "version": 3
   },
   "file_extension": ".py",
   "mimetype": "text/x-python",
   "name": "python",
   "nbconvert_exporter": "python",
   "pygments_lexer": "ipython3",
   "version": "3.7.6"
  }
 },
 "nbformat": 4,
 "nbformat_minor": 4
}
