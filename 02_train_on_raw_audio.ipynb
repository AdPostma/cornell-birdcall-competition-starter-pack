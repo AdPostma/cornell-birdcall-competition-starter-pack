{
 "cells": [
  {
   "cell_type": "markdown",
   "metadata": {},
   "source": [
    "First of all, let us get all the data that we need. Through the magic of `nbdev`, we will use the functionality we defined in `01_gettin_started`"
   ]
  },
  {
   "cell_type": "code",
   "execution_count": 1,
   "metadata": {},
   "outputs": [],
   "source": [
    "import soundfile as sf"
   ]
  },
  {
   "cell_type": "code",
   "execution_count": 2,
   "metadata": {},
   "outputs": [],
   "source": [
    "from birdcall.data import *\n",
    "\n",
    "items, classes = get_items(100)\n",
    "trn_idxs, val_idxs = trn_val_split_items(items, 10)[0]\n",
    "mean, std = calculate_mean_and_std(items, trn_idxs)\n",
    "trn_ds = AudioDataset(items[trn_idxs], classes, mean, std)\n",
    "val_ds = AudioDataset(items[val_idxs], classes, mean, std)"
   ]
  },
  {
   "cell_type": "code",
   "execution_count": 3,
   "metadata": {},
   "outputs": [
    {
     "data": {
      "text/plain": [
       "(23734, 2638)"
      ]
     },
     "execution_count": 3,
     "metadata": {},
     "output_type": "execute_result"
    }
   ],
   "source": [
    "len(trn_ds), len(val_ds)"
   ]
  },
  {
   "cell_type": "code",
   "execution_count": 4,
   "metadata": {},
   "outputs": [],
   "source": [
    "from fastai2.vision.all import *"
   ]
  },
  {
   "cell_type": "markdown",
   "metadata": {},
   "source": [
    "We need some sort of architecture to get started - the one adapted from this [paper](https://www.groundai.com/project/end-to-end-environmental-sound-classification-using-a-1d-convolutional-neural-network/1) seems like a good place to start"
   ]
  },
  {
   "cell_type": "code",
   "execution_count": 5,
   "metadata": {},
   "outputs": [
    {
     "data": {
      "text/plain": [
       "8"
      ]
     },
     "execution_count": 5,
     "metadata": {},
     "output_type": "execute_result"
    }
   ],
   "source": [
    "NUM_WORKERS"
   ]
  },
  {
   "cell_type": "code",
   "execution_count": 6,
   "metadata": {},
   "outputs": [],
   "source": [
    "BS = 128\n",
    "\n",
    "dls = DataLoaders(\n",
    "    DataLoader(dataset=trn_ds, bs=BS, num_workers=NUM_WORKERS, shuffle=True),\n",
    "    DataLoader(dataset=val_ds, bs=BS, num_workers=NUM_WORKERS)\n",
    ").cuda()"
   ]
  },
  {
   "cell_type": "code",
   "execution_count": 7,
   "metadata": {},
   "outputs": [
    {
     "data": {
      "text/plain": [
       "torch.Size([128, 240000])"
      ]
     },
     "execution_count": 7,
     "metadata": {},
     "output_type": "execute_result"
    }
   ],
   "source": [
    "b = dls.train.one_batch()\n",
    "b[0].shape"
   ]
  },
  {
   "cell_type": "markdown",
   "metadata": {},
   "source": [
    "Let's define our architecture"
   ]
  },
  {
   "cell_type": "code",
   "execution_count": 8,
   "metadata": {},
   "outputs": [],
   "source": [
    "get_arch = lambda: nn.Sequential(*[\n",
    "    Lambda(lambda x: x.unsqueeze(1)),\n",
    "    ConvLayer(1, 16, ks=64, stride=2, ndim=1),\n",
    "    ConvLayer(16, 16, ks=8, stride=8, ndim=1),\n",
    "    ConvLayer(16, 32, ks=32, stride=2, ndim=1),\n",
    "    ConvLayer(32, 32, ks=8, stride=8, ndim=1),\n",
    "    ConvLayer(32, 64, ks=16, stride=2, ndim=1),\n",
    "    ConvLayer(64, 128, ks=8, stride=2, ndim=1),\n",
    "    ConvLayer(128, 256, ks=4, stride=2, ndim=1),\n",
    "    ConvLayer(256, 256, ks=4, stride=4, ndim=1),\n",
    "    Flatten(),\n",
    "    LinBnDrop(7424, 512, p=0.25, act=nn.ReLU()),\n",
    "    LinBnDrop(512, 512, p=0.25, act=nn.ReLU()),\n",
    "    LinBnDrop(512, 256, p=0.25, act=nn.ReLU()),\n",
    "    LinBnDrop(256, len(classes))\n",
    "])"
   ]
  },
  {
   "cell_type": "markdown",
   "metadata": {},
   "source": [
    "A couple of functions to help us calculate metrics for diagnostics"
   ]
  },
  {
   "cell_type": "code",
   "execution_count": 9,
   "metadata": {},
   "outputs": [],
   "source": [
    "def preds_to_tp_fp_fn(preds, targs):\n",
    "    positives = preds.sigmoid() > 0.5\n",
    "    true_positives = positives[targs == 1]\n",
    "    false_positives = positives[targs != 1]\n",
    "    negatives = ~positives\n",
    "    false_negatives = negatives[targs == 1]\n",
    "    return true_positives.sum(), false_positives.sum(), false_negatives.sum()"
   ]
  },
  {
   "cell_type": "code",
   "execution_count": 13,
   "metadata": {},
   "outputs": [],
   "source": [
    "def precision(preds, targs):\n",
    "    tp, fp, fn = preds_to_tp_fp_fn(preds, targs)\n",
    "    return (tp.float() / (tp + fp)).item()\n",
    "\n",
    "def recall(preds, targs):\n",
    "    tp, fp, fn = preds_to_tp_fp_fn(preds, targs)\n",
    "    return (tp.float() / (tp + fn)).item()\n",
    "\n",
    "def f1(preds, targs, eps=1e-8):\n",
    "    prec = precision(preds, targs)\n",
    "    rec = recall(preds, targs)\n",
    "    return 2 * (prec * rec) / (prec + rec + eps)"
   ]
  },
  {
   "cell_type": "code",
   "execution_count": 14,
   "metadata": {},
   "outputs": [],
   "source": [
    "learn = Learner(\n",
    "    dls,\n",
    "    get_arch(),\n",
    "    metrics=[AccumMetric(precision), AccumMetric(recall), AccumMetric(f1)],\n",
    "    loss_func=BCEWithLogitsLossFlat()\n",
    ")"
   ]
  },
  {
   "cell_type": "code",
   "execution_count": 15,
   "metadata": {},
   "outputs": [
    {
     "data": {
      "text/html": [
       "<table border=\"1\" class=\"dataframe\">\n",
       "  <thead>\n",
       "    <tr style=\"text-align: left;\">\n",
       "      <th>epoch</th>\n",
       "      <th>train_loss</th>\n",
       "      <th>valid_loss</th>\n",
       "      <th>precision</th>\n",
       "      <th>recall</th>\n",
       "      <th>f1</th>\n",
       "      <th>time</th>\n",
       "    </tr>\n",
       "  </thead>\n",
       "  <tbody>\n",
       "    <tr>\n",
       "      <td>0</td>\n",
       "      <td>0.095490</td>\n",
       "      <td>0.031127</td>\n",
       "      <td>0.120482</td>\n",
       "      <td>0.003791</td>\n",
       "      <td>0.007350</td>\n",
       "      <td>00:30</td>\n",
       "    </tr>\n",
       "    <tr>\n",
       "      <td>1</td>\n",
       "      <td>0.023005</td>\n",
       "      <td>0.019363</td>\n",
       "      <td>0.317460</td>\n",
       "      <td>0.007582</td>\n",
       "      <td>0.014809</td>\n",
       "      <td>00:30</td>\n",
       "    </tr>\n",
       "    <tr>\n",
       "      <td>2</td>\n",
       "      <td>0.013935</td>\n",
       "      <td>0.010793</td>\n",
       "      <td>0.954373</td>\n",
       "      <td>0.095148</td>\n",
       "      <td>0.173044</td>\n",
       "      <td>00:30</td>\n",
       "    </tr>\n",
       "  </tbody>\n",
       "</table>"
      ],
      "text/plain": [
       "<IPython.core.display.HTML object>"
      ]
     },
     "metadata": {},
     "output_type": "display_data"
    }
   ],
   "source": [
    "learn.fit(3, 1e-3)"
   ]
  }
 ],
 "metadata": {
  "kernelspec": {
   "display_name": "Python 3",
   "language": "python",
   "name": "python3"
  }
 },
 "nbformat": 4,
 "nbformat_minor": 4
}
