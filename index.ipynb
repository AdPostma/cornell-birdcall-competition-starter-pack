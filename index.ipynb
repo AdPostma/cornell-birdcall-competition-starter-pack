{
 "cells": [
  {
   "cell_type": "code",
   "execution_count": null,
   "metadata": {},
   "outputs": [],
   "source": [
    "#hide\n",
    "from birdcall.core import *"
   ]
  },
  {
   "cell_type": "markdown",
   "metadata": {},
   "source": [
    "# [Cornell Birdcall Identification](https://www.kaggle.com/c/birdsong-recognition)\n",
    "\n",
    "> a kaggle competition starter parck"
   ]
  },
  {
   "cell_type": "markdown",
   "metadata": {},
   "source": [
    "This repository will contain everything you need to get started on the [Cornell Birdcall Identification competition](https://www.kaggle.com/c/birdsong-recognition) along with a couple of notebooks demonstrating potentially useful ways of addressing the problem.\n",
    "\n",
    "This repository is powered by [nbdev](https://github.com/fastai/nbdev) - your one stop solution for [DRY](https://en.wikipedia.org/wiki/Don%27t_repeat_yourself)-ing up your notebooks!\n",
    "\n",
    "Please reach out if you have any questions, check out the conversations in the issues! This is a shared effort and all contributions are welcome!\n",
    "\n",
    "**PLEASE NOTE**: The code in this repository will walk you from downloading the data through training all the way to performing inference on data similar to that in the test set (though sampled from a different distribution). For steps required to perform inference on the hidden test set and make a submission on Kaggle (as well as for further details on the modelling approach) please consult the following posts:\n",
    "\n",
    "1. [ESP Starter Pack v1](https://www.kaggle.com/c/birdsong-recognition/discussion/160222) - simple classifier trained on 5 second excerpts.\n",
    "2. [ESP Starter Pack v2](https://www.kaggle.com/c/birdsong-recognition/discussion/161860) - Multi Instance Learning based on \n",
    "this fantastic [paper](http://ceur-ws.org/Vol-2125/paper_181.pdf) by Jan Schlüter.\n",
    "\n",
    "*This community effort is supported by The Earth Species Project. In our quest to decode non-human communication, we plan to sharpen our toolset through sharing with and learning from the bioacoustic research community. You can learn more about who we are on our [website](https://earthspecies.org/).*"
   ]
  },
  {
   "cell_type": "markdown",
   "metadata": {},
   "source": [
    "## What you need to know\n",
    "\n",
    "This section will contain reference material that can be useful for getting started.\n",
    "\n",
    "1. [How to work with sound in Python?](https://github.com/earthspecies/from_zero_to_DSP) - a primer on how sound is represented inside a computer and how to work with it in an ML context.\n",
    "2. A [skeleton notebook](https://www.kaggle.com/cwthompson/birdsong-making-a-prediction) for making a submission using Kaggle kernels.\n",
    "3. How do you [use a model](https://forums.fast.ai/t/using-fastai2-on-kaggle/64072) you trained locally in your solution in a kernel only competition with Internet turned off?\n",
    "\n",
    "**Competition specific information**\n",
    "\n",
    "To stand a chance in a Kaggle competition, you need to read everything posted in the discussions. The amount of information the community accumulates over the course of a competition is immense. Here are some threads that stand out:\n",
    "\n",
    "1.[ What portion of clips](https://www.kaggle.com/c/birdsong-recognition/discussion/159492) in the test set have birds signing?"
   ]
  }
 ],
 "metadata": {
  "kernelspec": {
   "display_name": "Python 3",
   "language": "python",
   "name": "python3"
  },
  "language_info": {
   "codemirror_mode": {
    "name": "ipython",
    "version": 3
   },
   "file_extension": ".py",
   "mimetype": "text/x-python",
   "name": "python",
   "nbconvert_exporter": "python",
   "pygments_lexer": "ipython3",
   "version": "3.7.6"
  }
 },
 "nbformat": 4,
 "nbformat_minor": 2
}
