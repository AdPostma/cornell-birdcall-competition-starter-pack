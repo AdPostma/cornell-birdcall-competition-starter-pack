{
 "cells": [
  {
   "cell_type": "markdown",
   "metadata": {},
   "source": [
    "#  What is this challenge all about?"
   ]
  },
  {
   "cell_type": "markdown",
   "metadata": {},
   "source": [
    "We are presented with multiple recordings (up to 100) for each of the 264 bird species in the training set. All birds live in or travel to North America. The recordings come from https://www.xeno-canto.org/ - a site where people upload their bird recordings.\n",
    "\n",
    "Many of the recordings are done using a directional microphone. Let's load a recording and listen to it!"
   ]
  },
  {
   "cell_type": "code",
   "execution_count": null,
   "metadata": {},
   "outputs": [],
   "source": [
    "from IPython.lib.display import Audio"
   ]
  },
  {
   "cell_type": "code",
   "execution_count": null,
   "metadata": {},
   "outputs": [],
   "source": [
    "Audio('data/train_resampled/amekes/XC114061.wav')"
   ]
  },
  {
   "cell_type": "code",
   "execution_count": null,
   "metadata": {},
   "outputs": [],
   "source": [
    "Audio('data/train_resampled/macwar/XC148567.wav')"
   ]
  },
  {
   "cell_type": "markdown",
   "metadata": {},
   "source": [
    "This is our train set. There is some background noise, more so in some recordings than in others, nonetheless for all the recordings the authors went to considerable extent to make the bird call they were after recording to stand out!\n",
    "\n",
    "Some birds have very similar calls, some recordings are of poor quality. Nonetheless, training a model that does well on this data is doable and not all that challenging.\n",
    "\n",
    "Where the challenge lies, is that we are asked to train on this data, collected with directional microphones, and are asked to infer on soundscape data! These recordings come from passive acoustic monitoring sensors, and they offer no guarantee of the bird call being the most dominant sound. Also, often, there is a lot of background noise. Let's listen to an example:"
   ]
  },
  {
   "cell_type": "code",
   "execution_count": null,
   "metadata": {},
   "outputs": [],
   "source": [
    "Audio('data/BirdCLEF2020_val/audio/SSW50_20170819.wav')"
   ]
  },
  {
   "cell_type": "markdown",
   "metadata": {},
   "source": [
    "If there are any bird sounds there, they are very faint! Let's listen to another recording"
   ]
  },
  {
   "cell_type": "code",
   "execution_count": null,
   "metadata": {},
   "outputs": [],
   "source": [
    "Audio('data/BirdCLEF2020_val/audio/PER49_20190131.wav')"
   ]
  },
  {
   "cell_type": "markdown",
   "metadata": {},
   "source": [
    "This one seems much better! We can hear a lot more birds. But there is another problem - there seems to be a lot of background noise!\n",
    "\n",
    "It is likely that the test set we will be asked to infer on is not like our training set. But even across the soundscape recordings, there is a lot of variablility. What will the test set of the competition be like?\n",
    "\n",
    "In general this problem is known as domain adaptation or domain shift. But its incarnation for this competition seems to be particularly challenging!"
   ]
  }
 ],
 "metadata": {
  "kernelspec": {
   "display_name": "Python 3",
   "language": "python",
   "name": "python3"
  },
  "language_info": {
   "codemirror_mode": {
    "name": "ipython",
    "version": 3
   },
   "file_extension": ".py",
   "mimetype": "text/x-python",
   "name": "python",
   "nbconvert_exporter": "python",
   "pygments_lexer": "ipython3",
   "version": "3.7.6"
  }
 },
 "nbformat": 4,
 "nbformat_minor": 4
}
