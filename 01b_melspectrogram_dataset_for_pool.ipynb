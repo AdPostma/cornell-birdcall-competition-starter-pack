{
 "cells": [
  {
   "cell_type": "code",
   "execution_count": 1,
   "metadata": {},
   "outputs": [],
   "source": [
    "from birdcall.data import *\n",
    "\n",
    "import pandas as pd\n",
    "import librosa\n",
    "import matplotlib.pyplot as plt\n",
    "import soundfile as sf\n",
    "from torch.utils.data import Dataset\n",
    "import numpy as np"
   ]
  },
  {
   "cell_type": "code",
   "execution_count": 2,
   "metadata": {},
   "outputs": [],
   "source": [
    "recs = pd.read_pickle('data/recs.pkl')"
   ]
  },
  {
   "cell_type": "markdown",
   "metadata": {},
   "source": [
    "## Going from audio to mel spectrogram"
   ]
  },
  {
   "cell_type": "markdown",
   "metadata": {},
   "source": [
    "The below adapts [code](https://github.com/f0k/birdclef2018/blob/master/experiments/audio.py) by Jan Schlüter accompanying this very informative [paper](http://ceur-ws.org/Vol-2125/paper_181.pdf)."
   ]
  },
  {
   "cell_type": "code",
   "execution_count": 3,
   "metadata": {},
   "outputs": [],
   "source": [
    "audio, _ = sf.read('data/train_resampled/norpar/XC173778.wav')"
   ]
  },
  {
   "cell_type": "code",
   "execution_count": 4,
   "metadata": {},
   "outputs": [
    {
     "data": {
      "text/plain": [
       "57.456"
      ]
     },
     "execution_count": 4,
     "metadata": {},
     "output_type": "execute_result"
    }
   ],
   "source": [
    "audio.shape[0] / SAMPLE_RATE"
   ]
  },
  {
   "cell_type": "code",
   "execution_count": 5,
   "metadata": {},
   "outputs": [],
   "source": [
    "audio = audio[:5*SAMPLE_RATE] # grabbing only the first five seconds"
   ]
  },
  {
   "cell_type": "code",
   "execution_count": 6,
   "metadata": {},
   "outputs": [],
   "source": [
    "#export data\n",
    "\n",
    "from pyfftw.builders import rfft as rfft_builder\n",
    "from pyfftw import empty_aligned\n",
    "\n",
    "mel_bands=80\n",
    "mel_min=27.5\n",
    "mel_max=10000"
   ]
  },
  {
   "cell_type": "code",
   "execution_count": 7,
   "metadata": {},
   "outputs": [],
   "source": [
    "#export data\n",
    "\n",
    "def spectrogram(samples, sample_rate, frame_len, fps, batch=48, dtype=None,\n",
    "                bins=None, plans=None):\n",
    "    \"\"\"\n",
    "    Computes a magnitude spectrogram for a given vector of samples at a given\n",
    "    sample rate (in Hz), frame length (in samples) and frame rate (in Hz).\n",
    "    Allows to transform multiple frames at once for improved performance (with\n",
    "    a default value of 48, more is not always better). Returns a numpy array.\n",
    "    Allows to return a limited number of bins only, with improved performance\n",
    "    over discarding them afterwards. Optionally accepts a set of precomputed\n",
    "    plans created with spectrogram_plans(), required when multi-threading.\n",
    "    \"\"\"\n",
    "    if dtype is None:\n",
    "        dtype = samples.dtype\n",
    "    if bins is None:\n",
    "        bins = frame_len // 2 + 1\n",
    "    if len(samples) < frame_len:\n",
    "        return np.empty((0, bins), dtype=dtype)\n",
    "    if plans is None:\n",
    "        plans = spectrogram_plans(frame_len, batch, dtype)\n",
    "    rfft1, rfft, win = plans\n",
    "    hopsize = int(sample_rate // fps)\n",
    "    num_frames = (len(samples) - frame_len) // hopsize + 1\n",
    "    nabs = np.abs\n",
    "    naa = np.asanyarray\n",
    "    if batch > 1 and num_frames >= batch and samples.flags.c_contiguous:\n",
    "        frames = np.lib.stride_tricks.as_strided(\n",
    "                samples, shape=(num_frames, frame_len),\n",
    "                strides=(samples.strides[0] * hopsize, samples.strides[0]))\n",
    "        spect = [nabs(rfft(naa(frames[pos:pos + batch:], dtype) * win)[:, :bins])\n",
    "                 for pos in range(0, num_frames - batch + 1, batch)]\n",
    "        samples = samples[(num_frames // batch * batch) * hopsize::]\n",
    "        num_frames = num_frames % batch\n",
    "    else:\n",
    "        spect = []\n",
    "    if num_frames:\n",
    "        spect.append(np.vstack(\n",
    "                [nabs(rfft1(naa(samples[pos:pos + frame_len:],\n",
    "                                dtype) * win)[:bins:])\n",
    "                 for pos in range(0, len(samples) - frame_len + 1, hopsize)]))\n",
    "    return np.vstack(spect) if len(spect) > 1 else spect[0]\n",
    "\n",
    "\n",
    "def create_mel_filterbank(sample_rate, frame_len, num_bands, min_freq,\n",
    "                          max_freq):\n",
    "    \"\"\"\n",
    "    Creates a mel filterbank of `num_bands` triangular filters, with the first\n",
    "    filter starting at `min_freq` and the last one stopping at `max_freq`.\n",
    "    Returns the filterbank as a matrix suitable for a dot product against\n",
    "    magnitude spectra created from samples at a sample rate of `sample_rate`\n",
    "    with a window length of `frame_len` samples.\n",
    "    \"\"\"\n",
    "    # prepare output matrix\n",
    "    input_bins = (frame_len // 2) + 1\n",
    "    filterbank = np.zeros((input_bins, num_bands))\n",
    "\n",
    "    # mel-spaced peak frequencies\n",
    "    min_mel = 1127 * np.log1p(min_freq / 700.0)\n",
    "    max_mel = 1127 * np.log1p(max_freq / 700.0)\n",
    "    spacing = (max_mel - min_mel) / (num_bands + 1)\n",
    "    peaks_mel = min_mel + np.arange(num_bands + 2) * spacing\n",
    "    peaks_hz = 700 * (np.exp(peaks_mel / 1127) - 1)\n",
    "    fft_freqs = np.linspace(0, sample_rate / 2., input_bins)\n",
    "    peaks_bin = np.searchsorted(fft_freqs, peaks_hz)\n",
    "\n",
    "    # fill output matrix with triangular filters\n",
    "    for b, filt in enumerate(filterbank.T):\n",
    "        # The triangle starts at the previous filter's peak (peaks_freq[b]),\n",
    "        # has its maximum at peaks_freq[b+1] and ends at peaks_freq[b+2].\n",
    "        left_hz, top_hz, right_hz = peaks_hz[b:b + 3]  # b, b+1, b+2\n",
    "        left_bin, top_bin, right_bin = peaks_bin[b:b + 3]\n",
    "        # Create triangular filter compatible to yaafe\n",
    "        filt[left_bin:top_bin] = ((fft_freqs[left_bin:top_bin] - left_hz) /\n",
    "                                  (top_bin - left_bin))\n",
    "        filt[top_bin:right_bin] = ((right_hz - fft_freqs[top_bin:right_bin]) /\n",
    "                                   (right_bin - top_bin))\n",
    "        filt[left_bin:right_bin] /= filt[left_bin:right_bin].sum()\n",
    "\n",
    "    return filterbank\n",
    "\n",
    "def spectrogram_plans(frame_len, batch=48, dtype=np.float32):\n",
    "    \"\"\"\n",
    "    Precompute plans for spectrogram(), for a given frame length, batch size\n",
    "    and dtype. Returns two plans (single spectrum and batch), and a window.\n",
    "    \"\"\"\n",
    "    input_array = empty_aligned((batch, frame_len), dtype=dtype)\n",
    "    win = np.hanning(frame_len).astype(dtype)\n",
    "    return (rfft_builder(input_array[0]), rfft_builder(input_array), win)"
   ]
  },
  {
   "cell_type": "code",
   "execution_count": 8,
   "metadata": {},
   "outputs": [],
   "source": [
    "spec = spectrogram(audio, SAMPLE_RATE, 256, 128)"
   ]
  },
  {
   "cell_type": "code",
   "execution_count": 9,
   "metadata": {},
   "outputs": [
    {
     "data": {
      "text/plain": [
       "<matplotlib.image.AxesImage at 0x7fbe08680710>"
      ]
     },
     "execution_count": 9,
     "metadata": {},
     "output_type": "execute_result"
    },
    {
     "data": {
      "image/png": "[encoded data removed]",
      "text/plain": [
       "<Figure size 432x288 with 1 Axes>"
      ]
     },
     "metadata": {
      "needs_background": "light"
     },
     "output_type": "display_data"
    }
   ],
   "source": [
    "plt.imshow(spec.T, origin='lower')"
   ]
  },
  {
   "cell_type": "code",
   "execution_count": 10,
   "metadata": {},
   "outputs": [],
   "source": [
    "filterbank = create_mel_filterbank(SAMPLE_RATE, 256, mel_bands, mel_min, mel_max)"
   ]
  },
  {
   "cell_type": "code",
   "execution_count": 11,
   "metadata": {},
   "outputs": [
    {
     "data": {
      "text/plain": [
       "<matplotlib.image.AxesImage at 0x7fbe085a1110>"
      ]
     },
     "execution_count": 11,
     "metadata": {},
     "output_type": "execute_result"
    },
    {
     "data": {
      "image/png": "[encoded data removed]",
      "text/plain": [
       "<Figure size 432x288 with 1 Axes>"
      ]
     },
     "metadata": {
      "needs_background": "light"
     },
     "output_type": "display_data"
    }
   ],
   "source": [
    "plt.imshow((spec @ filterbank).T, origin='lower', aspect='auto')"
   ]
  },
  {
   "cell_type": "markdown",
   "metadata": {},
   "source": [
    "Pulling it all together into a datset"
   ]
  },
  {
   "cell_type": "code",
   "execution_count": 12,
   "metadata": {},
   "outputs": [],
   "source": [
    "#export data\n",
    "\n",
    "def audio_to_melspec(audio):\n",
    "    spec = spectrogram(audio, SAMPLE_RATE, 256, 128)\n",
    "    filterbank = create_mel_filterbank(SAMPLE_RATE, 256, mel_bands, mel_min, mel_max)\n",
    "    return (spec @ filterbank).T"
   ]
  },
  {
   "cell_type": "code",
   "execution_count": 17,
   "metadata": {},
   "outputs": [],
   "source": [
    "#export data\n",
    "\n",
    "class MelspecPoolDataset(Dataset):\n",
    "    def __init__(self, recs, classes, len_mult=20, specs_per_example=30, normalize=True):\n",
    "        self.recs = recs\n",
    "        self.vocab = classes\n",
    "        self.specs_per_example = specs_per_example\n",
    "        self.len_mult = len_mult\n",
    "        self.do_norm = normalize\n",
    "        \n",
    "    def __getitem__(self, idx):\n",
    "        cls_idx = idx % len(self.vocab)\n",
    "        recs = self.recs[classes[cls_idx]]\n",
    "        path, duration = recs[np.random.randint(0, len(recs))]\n",
    "        example = self.sample_specs(path, duration, self.specs_per_example)\n",
    "        if self.do_norm: example = self.normalize(example)\n",
    "        imgs = example.reshape(-1, 3, 80, 212)\n",
    "        return imgs.astype(np.float32), self.one_hot_encode(cls_idx)\n",
    "    \n",
    "    def sample_specs(self, path, duration, count):\n",
    "        x, _ = sf.read(path)\n",
    "\n",
    "        if x.shape[0] < 1.66*SAMPLE_RATE:\n",
    "            x =  np.tile(x, 5) # the shortest rec in the train set is 0.39 sec\n",
    "\n",
    "        xs = []\n",
    "        for _ in range(count):\n",
    "            start_frame = int(np.random.rand() * (x.shape[0] - 1.66 * SAMPLE_RATE))\n",
    "            xs.append(x[start_frame:start_frame+int(1.66*SAMPLE_RATE)])\n",
    "\n",
    "        specs = []\n",
    "        for x in xs:\n",
    "            specs.append(audio_to_melspec(x))\n",
    "        return np.stack(specs)\n",
    "    \n",
    "    def normalize(self, example):\n",
    "        return (example - 0.12934518) / 0.5612393\n",
    "    \n",
    "    def show(self, idx):\n",
    "        x = self[idx][0][0]\n",
    "        return plt.imshow(x.transpose(1,2,0)[:, :, 0])\n",
    "        \n",
    "    def one_hot_encode(self, y):\n",
    "        one_hot = np.zeros((len(self.vocab)))\n",
    "        one_hot[y] = 1\n",
    "        return one_hot\n",
    "    def __len__(self):\n",
    "        return self.len_mult * len(self.vocab)"
   ]
  },
  {
   "cell_type": "code",
   "execution_count": 18,
   "metadata": {},
   "outputs": [],
   "source": [
    "classes = pd.read_pickle('data/classes.pkl')\n",
    "train_ds = MelspecPoolDataset(pd.read_pickle('data/train_set.pkl'), classes)\n",
    "valid_ds = MelspecPoolDataset(pd.read_pickle('data/val_set.pkl'), classes, len_mult=10)"
   ]
  },
  {
   "cell_type": "code",
   "execution_count": 27,
   "metadata": {},
   "outputs": [
    {
     "data": {
      "text/plain": [
       "<matplotlib.image.AxesImage at 0x7fbe07ea1d10>"
      ]
     },
     "execution_count": 27,
     "metadata": {},
     "output_type": "execute_result"
    },
    {
     "data": {
      "image/png": "[encoded data removed]",
      "text/plain": [
       "<Figure size 432x288 with 1 Axes>"
      ]
     },
     "metadata": {
      "needs_background": "light"
     },
     "output_type": "display_data"
    }
   ],
   "source": [
    "train_ds.show(0)"
   ]
  },
  {
   "cell_type": "code",
   "execution_count": 28,
   "metadata": {},
   "outputs": [
    {
     "name": "stdout",
     "output_type": "stream",
     "text": [
      "CPU times: user 15min 22s, sys: 49.4 s, total: 16min 11s\n",
      "Wall time: 2min 4s\n"
     ]
    }
   ],
   "source": [
    "%%time\n",
    "x = []\n",
    "for i in range(264*3):\n",
    "    x.append(train_ds[i][0])"
   ]
  },
  {
   "cell_type": "code",
   "execution_count": 271,
   "metadata": {},
   "outputs": [
    {
     "data": {
      "text/plain": [
       "(0.12934518, 0.5612393)"
      ]
     },
     "execution_count": 271,
     "metadata": {},
     "output_type": "execute_result"
    }
   ],
   "source": [
    "np.stack(x).mean(), np.stack(x).std()"
   ]
  }
 ],
 "metadata": {
  "kernelspec": {
   "display_name": "Python 3",
   "language": "python",
   "name": "python3"
  },
  "language_info": {
   "codemirror_mode": {
    "name": "ipython",
    "version": 3
   },
   "file_extension": ".py",
   "mimetype": "text/x-python",
   "name": "python",
   "nbconvert_exporter": "python",
   "pygments_lexer": "ipython3",
   "version": "3.7.6"
  }
 },
 "nbformat": 4,
 "nbformat_minor": 4
}
