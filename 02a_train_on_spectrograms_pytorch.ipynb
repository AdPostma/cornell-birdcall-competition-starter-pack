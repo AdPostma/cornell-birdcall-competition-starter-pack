{
 "cells": [
  {
   "cell_type": "code",
   "execution_count": 1,
   "metadata": {},
   "outputs": [],
   "source": [
    "from birdcall.data import *\n",
    "from birdcall.metrics import *\n",
    "\n",
    "import pandas as pd"
   ]
  },
  {
   "cell_type": "code",
   "execution_count": 2,
   "metadata": {},
   "outputs": [],
   "source": [
    "classes = pd.read_pickle('data/classes.pkl')\n",
    "train_ds = SpectrogramDataset(pd.read_pickle('data/train_set.pkl'), classes, len_mult=100, spec_max=80, spec_min=-100)\n",
    "valid_ds = SpectrogramDataset(pd.read_pickle('data/val_set.pkl'), classes, len_mult=20)"
   ]
  },
  {
   "cell_type": "code",
   "execution_count": 3,
   "metadata": {},
   "outputs": [
    {
     "data": {
      "text/plain": [
       "(26400, 5280)"
      ]
     },
     "execution_count": 3,
     "metadata": {},
     "output_type": "execute_result"
    }
   ],
   "source": [
    "len(train_ds), len(valid_ds)"
   ]
  },
  {
   "cell_type": "code",
   "execution_count": 4,
   "metadata": {},
   "outputs": [],
   "source": [
    "import torch\n",
    "import torchvision\n",
    "from torch import nn"
   ]
  },
  {
   "cell_type": "code",
   "execution_count": 5,
   "metadata": {},
   "outputs": [],
   "source": [
    "train_dl = torch.utils.data.DataLoader(train_ds, batch_size=160, shuffle=False, num_workers=NUM_WORKERS)\n",
    "valid_dl = torch.utils.data.DataLoader(valid_ds, batch_size=2*160, shuffle=False, num_workers=NUM_WORKERS)"
   ]
  },
  {
   "cell_type": "code",
   "execution_count": 6,
   "metadata": {},
   "outputs": [
    {
     "data": {
      "text/plain": [
       "(torch.Size([160, 3, 128, 313]),\n",
       " tensor([[1., 0., 0.,  ..., 0., 0., 0.],\n",
       "         [0., 1., 0.,  ..., 0., 0., 0.],\n",
       "         [0., 0., 1.,  ..., 0., 0., 0.],\n",
       "         ...,\n",
       "         [0., 0., 0.,  ..., 0., 0., 0.],\n",
       "         [0., 0., 0.,  ..., 0., 0., 0.],\n",
       "         [0., 0., 0.,  ..., 0., 0., 0.]], dtype=torch.float64))"
      ]
     },
     "execution_count": 6,
     "metadata": {},
     "output_type": "execute_result"
    }
   ],
   "source": [
    "for b in train_dl: break\n",
    "b[0].shape, b[1]"
   ]
  },
  {
   "cell_type": "code",
   "execution_count": 7,
   "metadata": {},
   "outputs": [
    {
     "data": {
      "text/plain": [
       "(tensor(-0.0488), tensor(1.0572))"
      ]
     },
     "execution_count": 7,
     "metadata": {},
     "output_type": "execute_result"
    }
   ],
   "source": [
    "b[0].mean(), b[0].std()"
   ]
  },
  {
   "cell_type": "code",
   "execution_count": 8,
   "metadata": {},
   "outputs": [],
   "source": [
    "res50 = torchvision.models.resnet50(True)"
   ]
  },
  {
   "cell_type": "code",
   "execution_count": 9,
   "metadata": {},
   "outputs": [],
   "source": [
    "bottom = nn.Sequential(*list(res50.children())[:6])\n",
    "mid = nn.Sequential(*list(res50.children())[6:-2])"
   ]
  },
  {
   "cell_type": "code",
   "execution_count": 11,
   "metadata": {},
   "outputs": [],
   "source": [
    "class Head(nn.Module):\n",
    "    def __init__(self):\n",
    "        super().__init__()\n",
    "        self.avg_pool = nn.AdaptiveAvgPool2d(1)\n",
    "        self.layers = nn.ModuleList(\n",
    "            [\n",
    "                nn.Linear(2048, 1024), nn.ReLU(), nn.Dropout(p=0.2),\n",
    "                nn.Linear(1024, 1024), nn.ReLU(), nn.Dropout(p=0.2),\n",
    "                nn.Linear(1024, len(classes))\n",
    "            ]\n",
    "        )\n",
    "    def forward(self, x):\n",
    "#         set_trace()\n",
    "        x = self.avg_pool(x)\n",
    "        x = x.view(x.shape[0], -1)\n",
    "        for l in self.layers:\n",
    "            x = l(x)\n",
    "        return x"
   ]
  },
  {
   "cell_type": "code",
   "execution_count": 12,
   "metadata": {},
   "outputs": [],
   "source": [
    "model = nn.Sequential(bottom, mid, Head())"
   ]
  },
  {
   "cell_type": "code",
   "execution_count": 13,
   "metadata": {},
   "outputs": [],
   "source": [
    "model.cuda();"
   ]
  },
  {
   "cell_type": "code",
   "execution_count": 14,
   "metadata": {},
   "outputs": [
    {
     "data": {
      "text/plain": [
       "torch.Size([160, 264])"
      ]
     },
     "execution_count": 14,
     "metadata": {},
     "output_type": "execute_result"
    }
   ],
   "source": [
    "model(b[0].cuda()).shape"
   ]
  },
  {
   "cell_type": "code",
   "execution_count": 15,
   "metadata": {},
   "outputs": [],
   "source": [
    "import torch.optim as optim\n",
    "\n",
    "criterion = nn.BCEWithLogitsLoss()\n",
    "optimizer = optim.Adam(model.parameters(), 1e-3)"
   ]
  },
  {
   "cell_type": "code",
   "execution_count": 16,
   "metadata": {},
   "outputs": [],
   "source": [
    "from sklearn.metrics import accuracy_score, f1_score"
   ]
  },
  {
   "cell_type": "code",
   "execution_count": 18,
   "metadata": {},
   "outputs": [
    {
     "name": "stdout",
     "output_type": "stream",
     "text": [
      "[1,   165] loss: 0.002, accuracy: 0.000, f1: 0.000\n",
      "[2,   165] loss: 0.002, accuracy: 0.000, f1: 0.000\n",
      "[3,   165] loss: 0.002, accuracy: 0.000, f1: 0.000\n",
      "[4,   165] loss: 0.002, accuracy: 0.000, f1: 0.000\n",
      "[5,   165] loss: 0.002, accuracy: 0.000, f1: 0.000\n",
      "[6,   165] loss: 0.002, accuracy: 0.000, f1: 0.000\n",
      "[7,   165] loss: 0.002, accuracy: 0.000, f1: 0.000\n",
      "[8,   165] loss: 0.002, accuracy: 0.000, f1: 0.000\n",
      "[9,   165] loss: 0.002, accuracy: 0.000, f1: 0.000\n",
      "[10,   165] loss: 0.001, accuracy: 0.001, f1: 0.001\n",
      "[11,   165] loss: 0.001, accuracy: 0.004, f1: 0.007\n",
      "[12,   165] loss: 0.001, accuracy: 0.005, f1: 0.006\n",
      "[13,   165] loss: 0.001, accuracy: 0.003, f1: 0.004\n",
      "[14,   165] loss: 0.001, accuracy: 0.004, f1: 0.005\n",
      "[15,   165] loss: 0.001, accuracy: 0.000, f1: 0.001\n",
      "[16,   165] loss: 0.001, accuracy: 0.000, f1: 0.000\n",
      "[17,   165] loss: 0.001, accuracy: 0.000, f1: 0.000\n",
      "[18,   165] loss: 0.001, accuracy: 0.000, f1: 0.000\n",
      "[19,   165] loss: 0.001, accuracy: 0.002, f1: 0.002\n",
      "[20,   165] loss: 0.001, accuracy: 0.002, f1: 0.003\n",
      "[21,   165] loss: 0.000, accuracy: 0.002, f1: 0.002\n",
      "[22,   165] loss: 0.000, accuracy: 0.005, f1: 0.008\n",
      "[23,   165] loss: 0.000, accuracy: 0.001, f1: 0.001\n",
      "[24,   165] loss: 0.000, accuracy: 0.004, f1: 0.005\n",
      "[25,   165] loss: 0.000, accuracy: 0.003, f1: 0.006\n",
      "[26,   165] loss: 0.000, accuracy: 0.003, f1: 0.004\n",
      "[27,   165] loss: 0.000, accuracy: 0.001, f1: 0.002\n",
      "[28,   165] loss: 0.000, accuracy: 0.004, f1: 0.004\n",
      "[29,   165] loss: 0.000, accuracy: 0.002, f1: 0.004\n",
      "[30,   165] loss: 0.000, accuracy: 0.000, f1: 0.000\n",
      "[31,   165] loss: 0.000, accuracy: 0.002, f1: 0.003\n",
      "[32,   165] loss: 0.000, accuracy: 0.004, f1: 0.004\n",
      "[33,   165] loss: 0.000, accuracy: 0.003, f1: 0.005\n",
      "[34,   165] loss: 0.000, accuracy: 0.003, f1: 0.004\n",
      "[35,   165] loss: 0.000, accuracy: 0.001, f1: 0.001\n",
      "[36,   165] loss: 0.000, accuracy: 0.004, f1: 0.004\n",
      "[37,   165] loss: 0.000, accuracy: 0.004, f1: 0.004\n",
      "[38,   165] loss: 0.000, accuracy: 0.004, f1: 0.004\n",
      "[39,   165] loss: 0.000, accuracy: 0.004, f1: 0.004\n",
      "[40,   165] loss: 0.000, accuracy: 0.004, f1: 0.004\n",
      "[41,   165] loss: 0.000, accuracy: 0.004, f1: 0.004\n",
      "[42,   165] loss: 0.000, accuracy: 0.004, f1: 0.004\n",
      "[43,   165] loss: 0.000, accuracy: 0.002, f1: 0.003\n",
      "[44,   165] loss: 0.000, accuracy: 0.003, f1: 0.005\n",
      "[45,   165] loss: 0.000, accuracy: 0.004, f1: 0.004\n",
      "[46,   165] loss: 0.000, accuracy: 0.002, f1: 0.003\n",
      "[47,   165] loss: 0.000, accuracy: 0.003, f1: 0.004\n",
      "[48,   165] loss: 0.000, accuracy: 0.002, f1: 0.002\n",
      "[49,   165] loss: 0.000, accuracy: 0.004, f1: 0.005\n",
      "[50,   165] loss: 0.000, accuracy: 0.003, f1: 0.005\n",
      "[52,   165] loss: 0.000, accuracy: 0.000, f1: 0.000\n",
      "[53,   165] loss: 0.000, accuracy: 0.004, f1: 0.004\n",
      "[54,   165] loss: 0.000, accuracy: 0.003, f1: 0.003\n",
      "[55,   165] loss: 0.000, accuracy: 0.003, f1: 0.004\n",
      "[56,   165] loss: 0.000, accuracy: 0.001, f1: 0.002\n",
      "[57,   165] loss: 0.000, accuracy: 0.002, f1: 0.003\n",
      "[58,   165] loss: 0.000, accuracy: 0.002, f1: 0.003\n",
      "[59,   165] loss: 0.000, accuracy: 0.002, f1: 0.004\n",
      "[60,   165] loss: 0.000, accuracy: 0.000, f1: 0.001\n"
     ]
    }
   ],
   "source": [
    "for epoch in range(60):  # loop over the dataset multiple times\n",
    "    running_loss = 0.0\n",
    "    for i, data in enumerate(train_dl, 0):\n",
    "        model.train()\n",
    "        inputs, labels = data[0].cuda(), data[1].cuda()\n",
    "        optimizer.zero_grad()\n",
    "\n",
    "        outputs = model(inputs)\n",
    "        loss = criterion(outputs, labels)\n",
    "        loss.backward()\n",
    "        optimizer.step()\n",
    "\n",
    "        running_loss += loss.item()\n",
    "        if i % 165 == 164:\n",
    "            model.eval();\n",
    "            preds = []\n",
    "            targs = []\n",
    "\n",
    "            with torch.no_grad():\n",
    "                for data in valid_dl:\n",
    "                    inputs, labels = data[0].cuda(), data[1].cuda()\n",
    "                    outputs = model(inputs)\n",
    "                    preds.append(outputs.cpu().detach())\n",
    "                    targs.append(labels.cpu().detach())\n",
    "\n",
    "                preds = torch.cat(preds)\n",
    "                targs = torch.cat(targs)\n",
    "            \n",
    "            print('[%d, %5d] loss: %.3f, accuracy: %.3f, f1: %.3f' %\n",
    "                  (epoch + 1, i + 1, running_loss / 2000, accuracy_score(preds.sigmoid() > 0.5, targs), f1_score(preds.sigmoid() > 0.5, targs, average='micro')))\n",
    "            running_loss = 0.0"
   ]
  }
 ],
 "metadata": {
  "kernelspec": {
   "display_name": "Python 3",
   "language": "python",
   "name": "python3"
  },
  "language_info": {
   "codemirror_mode": {
    "name": "ipython",
    "version": 3
   },
   "file_extension": ".py",
   "mimetype": "text/x-python",
   "name": "python",
   "nbconvert_exporter": "python",
   "pygments_lexer": "ipython3",
   "version": "3.7.6"
  }
 },
 "nbformat": 4,
 "nbformat_minor": 4
}
